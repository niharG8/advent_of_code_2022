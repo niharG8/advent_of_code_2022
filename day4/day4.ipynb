{
 "cells": [
  {
   "cell_type": "code",
   "execution_count": 6,
   "metadata": {},
   "outputs": [
    {
     "data": {
      "text/plain": [
       "[[2, 4], [6, 8]]"
      ]
     },
     "execution_count": 6,
     "metadata": {},
     "output_type": "execute_result"
    }
   ],
   "source": [
    "def parse_ranges(line: str) -> list[list[int]]:\n",
    "    ranges = line.split(',')\n",
    "    first_range = [int(x) for x in ranges[0].split('-')]\n",
    "    second_range = [int(x) for x in ranges[1].split('-')]\n",
    "    return [first_range, second_range]\n",
    "\n",
    "# test case for parse_ranges\n",
    "parse_ranges('2-4,6-8')"
   ]
  },
  {
   "cell_type": "code",
   "execution_count": 12,
   "metadata": {},
   "outputs": [],
   "source": [
    "def does_contain(range1: list[int], range2: list[int]) -> bool:\n",
    "    return (min(range1) <= min(range2) and max(range1) >= max(range2)) or \\\n",
    "    (min(range2) <= min(range1) and max(range2) >= max(range1))\n",
    "\n",
    "# test cases\n",
    "assert(does_contain([0, 3], [1, 2]) == True)\n",
    "assert(does_contain([1, 2], [0, 3]) == True)\n",
    "assert(does_contain([1, 5], [2, 6]) == False)"
   ]
  },
  {
   "cell_type": "code",
   "execution_count": 14,
   "metadata": {},
   "outputs": [
    {
     "data": {
      "text/plain": [
       "547"
      ]
     },
     "execution_count": 14,
     "metadata": {},
     "output_type": "execute_result"
    }
   ],
   "source": [
    "num_contained = 0\n",
    "with open('input.txt', 'r') as f:\n",
    "    for line in f.readlines():\n",
    "        ranges = parse_ranges(line)\n",
    "        num_contained += int(does_contain(ranges[0], ranges[1]))\n",
    "\n",
    "num_contained"
   ]
  }
 ],
 "metadata": {
  "kernelspec": {
   "display_name": "Python 3.10.8 64-bit",
   "language": "python",
   "name": "python3"
  },
  "language_info": {
   "codemirror_mode": {
    "name": "ipython",
    "version": 3
   },
   "file_extension": ".py",
   "mimetype": "text/x-python",
   "name": "python",
   "nbconvert_exporter": "python",
   "pygments_lexer": "ipython3",
   "version": "3.10.8"
  },
  "orig_nbformat": 4,
  "vscode": {
   "interpreter": {
    "hash": "aee8b7b246df8f9039afb4144a1f6fd8d2ca17a180786b69acc140d282b71a49"
   }
  }
 },
 "nbformat": 4,
 "nbformat_minor": 2
}
