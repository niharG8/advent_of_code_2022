{
 "cells": [
  {
   "cell_type": "markdown",
   "id": "6ed16ef5-7179-4ed3-8912-0213749d89f9",
   "metadata": {},
   "source": [
    "[Day 1](https://adventofcode.com/2022/day/1)\n"
   ]
  },
  {
   "cell_type": "markdown",
   "id": "a2d505f6-38fe-4d46-9ac7-8bdfc82ce6f9",
   "metadata": {},
   "source": [
    "Part 1: What is the max number of calories in a single elf?"
   ]
  },
  {
   "cell_type": "code",
   "execution_count": null,
   "id": "58f3e195-fcb0-4607-a4b1-97aafed5685d",
   "metadata": {},
   "outputs": [],
   "source": [
    "with open('input.txt', 'r') as f:\n",
    "    lines = f.readlines()"
   ]
  },
  {
   "cell_type": "code",
   "execution_count": 7,
   "id": "e7b01941-2ab5-4f5f-ba68-95bebdef16ed",
   "metadata": {},
   "outputs": [
    {
     "data": {
      "text/plain": [
       "72017"
      ]
     },
     "execution_count": 7,
     "metadata": {},
     "output_type": "execute_result"
    }
   ],
   "source": [
    "calorie_counts = []\n",
    "this_elf_cals = 0\n",
    "for line in lines:\n",
    "    if not line.startswith('\\n'):\n",
    "        this_elf_cals += int(line.strip())\n",
    "    else:\n",
    "        calorie_counts.append(this_elf_cals)\n",
    "        this_elf_cals = 0\n",
    "\n",
    "max(calorie_counts)"
   ]
  },
  {
   "cell_type": "markdown",
   "id": "7df87e8e-b698-4e8a-846c-e9b70c3997a2",
   "metadata": {},
   "source": [
    "Part 2: What is the total of the top 3 highest calories?"
   ]
  },
  {
   "cell_type": "code",
   "execution_count": 15,
   "id": "e4c92453-0530-40c9-9818-94354e617b74",
   "metadata": {},
   "outputs": [
    {
     "data": {
      "text/plain": [
       "212520"
      ]
     },
     "execution_count": 15,
     "metadata": {},
     "output_type": "execute_result"
    }
   ],
   "source": [
    "sum(sorted(calorie_counts, reverse=True)[:3])\n"
   ]
  }
 ],
 "metadata": {
  "kernelspec": {
   "display_name": "Python 3 (ipykernel)",
   "language": "python",
   "name": "python3"
  },
  "language_info": {
   "codemirror_mode": {
    "name": "ipython",
    "version": 3
   },
   "file_extension": ".py",
   "mimetype": "text/x-python",
   "name": "python",
   "nbconvert_exporter": "python",
   "pygments_lexer": "ipython3",
   "version": "3.10.8"
  }
 },
 "nbformat": 4,
 "nbformat_minor": 5
}
