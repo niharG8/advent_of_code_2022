{
 "cells": [
  {
   "cell_type": "markdown",
   "metadata": {},
   "source": [
    "[Day 3](https://adventofcode.com/2022/day/3)"
   ]
  },
  {
   "cell_type": "markdown",
   "metadata": {},
   "source": [
    "Part 1: Find priority of item duplicated across compartments in each rucksack"
   ]
  },
  {
   "cell_type": "code",
   "execution_count": 17,
   "metadata": {},
   "outputs": [
    {
     "data": {
      "text/plain": [
       "['Abcd', 'Efgh']"
      ]
     },
     "execution_count": 17,
     "metadata": {},
     "output_type": "execute_result"
    }
   ],
   "source": [
    "def get_sacks(line: str) -> list[str]:\n",
    "    line = line.strip()\n",
    "    if (len(line) % 2 != 0):\n",
    "        print(f'Odd number of chars for line: {line}, {len(line)}')\n",
    "    return [line[0:len(line) // 2], line[len(line) // 2:len(line)]]\n",
    "\n",
    "# Test case for get_sacks\n",
    "get_sacks('AbcdEfgh')\n"
   ]
  },
  {
   "cell_type": "code",
   "execution_count": 20,
   "metadata": {},
   "outputs": [],
   "source": [
    "def char_to_prio(ch: str):\n",
    "    if ch.isupper():\n",
    "        return ord(ch) - ord('A') + 27\n",
    "    else:\n",
    "        return ord(ch) - ord('a') + 1"
   ]
  },
  {
   "cell_type": "code",
   "execution_count": 21,
   "metadata": {},
   "outputs": [],
   "source": [
    "def get_shared_prio(sack1: str, sack2: str) -> int:\n",
    "    for ch1 in sack1:\n",
    "        if ch1 in sack2:\n",
    "            return char_to_prio(ch1)\n",
    "\n",
    "\n",
    "\n",
    "# test cases\n",
    "assert(get_shared_prio('Abc', 'DeA') == 27)\n",
    "assert(get_shared_prio('zs', 'fz') == 26)"
   ]
  },
  {
   "cell_type": "code",
   "execution_count": 22,
   "metadata": {},
   "outputs": [
    {
     "data": {
      "text/plain": [
       "7597"
      ]
     },
     "execution_count": 22,
     "metadata": {},
     "output_type": "execute_result"
    }
   ],
   "source": [
    "cum_prio = 0\n",
    "with open('input.txt', 'r') as f:\n",
    "    for line in f.readlines():\n",
    "        sacks = get_sacks(line)\n",
    "        cum_prio += get_shared_prio(sacks[0], sacks[1])\n",
    "cum_prio\n"
   ]
  },
  {
   "cell_type": "markdown",
   "metadata": {},
   "source": [
    "Part 2: Find sum of priorities of item duplicated across each group of 3 consecutive rucksacks"
   ]
  },
  {
   "cell_type": "code",
   "execution_count": 24,
   "metadata": {},
   "outputs": [],
   "source": [
    "def get_group_shared_prio(group:list[str]) -> int:\n",
    "    assert(len(group) == 3)\n",
    "    for ch in group[0]:\n",
    "        if ch in group[1] and ch in group[2]:\n",
    "            return char_to_prio(ch)\n",
    "    raise Exception('No shared item found in group: {group}')\n",
    "\n",
    "# Test case\n",
    "assert(get_group_shared_prio(['Abc', 'bXd', 'trb']) == 2)"
   ]
  },
  {
   "cell_type": "code",
   "execution_count": 27,
   "metadata": {},
   "outputs": [
    {
     "data": {
      "text/plain": [
       "2607"
      ]
     },
     "execution_count": 27,
     "metadata": {},
     "output_type": "execute_result"
    }
   ],
   "source": [
    "with open('input.txt', 'r') as f:\n",
    "    lines = f.readlines()\n",
    "\n",
    "cum_prio = 0\n",
    "cur_line = 0\n",
    "while cur_line < len(lines):\n",
    "    group = lines[cur_line:cur_line + 3]\n",
    "    cum_prio += get_group_shared_prio(group)\n",
    "    cur_line += 3\n",
    "\n",
    "cum_prio"
   ]
  }
 ],
 "metadata": {
  "kernelspec": {
   "display_name": "Python 3.10.8 64-bit",
   "language": "python",
   "name": "python3"
  },
  "language_info": {
   "codemirror_mode": {
    "name": "ipython",
    "version": 3
   },
   "file_extension": ".py",
   "mimetype": "text/x-python",
   "name": "python",
   "nbconvert_exporter": "python",
   "pygments_lexer": "ipython3",
   "version": "3.10.8"
  },
  "orig_nbformat": 4,
  "vscode": {
   "interpreter": {
    "hash": "aee8b7b246df8f9039afb4144a1f6fd8d2ca17a180786b69acc140d282b71a49"
   }
  }
 },
 "nbformat": 4,
 "nbformat_minor": 2
}
