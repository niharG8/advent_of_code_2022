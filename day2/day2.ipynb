{
 "cells": [
  {
   "cell_type": "markdown",
   "metadata": {},
   "source": [
    "Day 2"
   ]
  },
  {
   "cell_type": "markdown",
   "metadata": {},
   "source": [
    "Part 1: Cumulative score"
   ]
  },
  {
   "cell_type": "code",
   "execution_count": 4,
   "metadata": {},
   "outputs": [],
   "source": [
    "def parse_score(first: str, second: str) -> int:\n",
    "    FIRST_DICT = {'A': 'rock', 'B': 'paper', 'C': 'scissors'}\n",
    "    SECOND_DICT = {'X': 'rock', 'Y': 'paper', 'Z': 'scissors'}\n",
    "    first_play = FIRST_DICT[first]\n",
    "    second_play = SECOND_DICT[second]\n",
    "    if second_play == 'rock':\n",
    "        self_score = 1\n",
    "        if first_play == 'scissors': # win\n",
    "            result_score = 6\n",
    "        elif first_play == 'paper': # loss\n",
    "            result_score = 0\n",
    "        else:\n",
    "            result_score = 3\n",
    "    elif second_play == 'paper':\n",
    "        self_score = 2\n",
    "        if first_play == 'rock': # win\n",
    "            result_score = 6\n",
    "        elif first_play == 'scissors': # loss\n",
    "            result_score = 0\n",
    "        else:\n",
    "            result_score = 3\n",
    "    else:\n",
    "        self_score = 3\n",
    "        if first_play == 'paper':\n",
    "            result_score = 6\n",
    "        elif first_play == 'rock':\n",
    "            result_score = 0\n",
    "        else: \n",
    "            result_score = 3\n",
    "    return result_score + self_score\n",
    "\n"
   ]
  },
  {
   "cell_type": "code",
   "execution_count": 8,
   "metadata": {},
   "outputs": [
    {
     "data": {
      "text/plain": [
       "12156"
      ]
     },
     "execution_count": 8,
     "metadata": {},
     "output_type": "execute_result"
    }
   ],
   "source": [
    "cum_score = 0\n",
    "with open('input.txt', 'r') as f:\n",
    "    for line in f.readlines():\n",
    "        cum_score += parse_score(line[0], line[2])\n",
    "cum_score"
   ]
  },
  {
   "cell_type": "code",
   "execution_count": 13,
   "metadata": {},
   "outputs": [],
   "source": [
    "def parse_score_2(first: str, second: str) -> int:\n",
    "    FIRST_DICT = {'A': 'rock', 'B': 'paper', 'C': 'scissors'}\n",
    "    SECOND_DICT = {'X': 'lose', 'Y': 'draw', 'Z': 'win'}\n",
    "    first_play = FIRST_DICT[first]\n",
    "    result = SECOND_DICT[second]\n",
    "    if first_play == 'rock':\n",
    "        if result == 'lose':\n",
    "            result_score = 0\n",
    "            self_score = 3 # scissors\n",
    "        elif result == 'draw':\n",
    "            result_score = 3\n",
    "            self_score = 1 # rock\n",
    "        else: # win\n",
    "            result_score = 6\n",
    "            self_score = 2 # paper\n",
    "    elif first_play == 'paper':\n",
    "        if result == 'lose':\n",
    "            result_score = 0\n",
    "            self_score = 1 # rock\n",
    "        elif result == 'draw':\n",
    "            result_score = 3\n",
    "            self_score = 2 # paper\n",
    "        else: # win\n",
    "            result_score = 6\n",
    "            self_score = 3 # scissors\n",
    "    else: # opponent played scissors\n",
    "        if result == 'lose':\n",
    "            result_score = 0\n",
    "            self_score = 2 # paper\n",
    "        elif result == 'draw':\n",
    "            result_score = 3\n",
    "            self_score = 3 # scissors\n",
    "        else: # win\n",
    "            result_score = 6\n",
    "            self_score = 1 # rock\n",
    "    return result_score + self_score\n",
    "\n"
   ]
  },
  {
   "cell_type": "code",
   "execution_count": 14,
   "metadata": {},
   "outputs": [
    {
     "data": {
      "text/plain": [
       "10835"
      ]
     },
     "execution_count": 14,
     "metadata": {},
     "output_type": "execute_result"
    }
   ],
   "source": [
    "cum_score = 0\n",
    "with open('input.txt', 'r') as f:\n",
    "    for line in f.readlines():\n",
    "        cum_score += parse_score_2(line[0], line[2])\n",
    "cum_score"
   ]
  },
  {
   "cell_type": "code",
   "execution_count": null,
   "metadata": {},
   "outputs": [],
   "source": []
  }
 ],
 "metadata": {
  "kernelspec": {
   "display_name": "Python 3.10.4 64-bit",
   "language": "python",
   "name": "python3"
  },
  "language_info": {
   "codemirror_mode": {
    "name": "ipython",
    "version": 3
   },
   "file_extension": ".py",
   "mimetype": "text/x-python",
   "name": "python",
   "nbconvert_exporter": "python",
   "pygments_lexer": "ipython3",
   "version": "3.10.4"
  },
  "orig_nbformat": 4,
  "vscode": {
   "interpreter": {
    "hash": "3ad933181bd8a04b432d3370b9dc3b0662ad032c4dfaa4e4f1596c548f763858"
   }
  }
 },
 "nbformat": 4,
 "nbformat_minor": 2
}
